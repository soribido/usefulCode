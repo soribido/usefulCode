{
 "cells": [
  {
   "cell_type": "code",
   "execution_count": null,
   "id": "ff2aee56",
   "metadata": {},
   "outputs": [],
   "source": [
    "# pip install nvsmi"
   ]
  },
  {
   "cell_type": "code",
   "execution_count": 3,
   "id": "6fd1ea08",
   "metadata": {},
   "outputs": [],
   "source": [
    "'''Check GPU Memory Usage'''\n",
    "\n",
    "import os\n",
    "import nvsmi\n",
    "import pandas as pd\n",
    "import subprocess\n",
    "import psutil\n",
    "import psutil\n",
    "\n",
    "def kill_process(pid):\n",
    "    try:\n",
    "        process = psutil.Process(pid)\n",
    "        process.terminate()  # terminate process\n",
    "        print(f\"Process with PID {pid} terminated successfully.\")\n",
    "    except psutil.NoSuchProcess as e:\n",
    "        print(f\"Process with PID {pid} not found.\")\n",
    "    except psutil.AccessDenied as e:\n",
    "        print(f\"Access to terminate process with PID {pid} denied.\")\n",
    "\n",
    "def get_process_cwd(pid):\n",
    "    # /proc/{pid}/cwd create path\n",
    "    proc_path = f\"/proc/{pid}/cwd\"\n",
    "\n",
    "    try:\n",
    "        # Get current working directory via symbolic link\n",
    "        cwd = os.readlink(proc_path)\n",
    "        return cwd\n",
    "    except OSError as e:\n",
    "#         print(f\"Error: {e}\")\n",
    "        return None\n",
    "\n",
    "\n",
    "process_list = []\n",
    "for process in nvsmi.get_gpu_processes():\n",
    "    process_list.append([process.pid,process.gpu_id, process.used_memory, get_process_cwd(process.pid)])\n",
    "    \n",
    "gpu_df = pd.DataFrame(process_list,columns=['pid','gpu_id','memory','path']).sort_values(by = \"memory\",ascending=False)"
   ]
  },
  {
   "cell_type": "code",
   "execution_count": null,
   "id": "f539de1d-6c72-4957-a64f-a16b73f5021a",
   "metadata": {},
   "outputs": [],
   "source": [
    "gpu_df"
   ]
  },
  {
   "cell_type": "code",
   "execution_count": null,
   "id": "ece333d3",
   "metadata": {},
   "outputs": [],
   "source": [
    "# #kill\n",
    "# for i in range(len(df)):\n",
    "#     if \"jwkang\" in df.iloc[i].path:\n",
    "#         print(df.iloc[i]['pid'])\n",
    "#         kill_process(df.iloc[i]['pid'])"
   ]
  },
  {
   "cell_type": "code",
   "execution_count": 5,
   "id": "d040fdf6",
   "metadata": {},
   "outputs": [],
   "source": [
    "'''Check CPU Memory Usage'''\n",
    "import psutil\n",
    "import pandas as pd\n",
    "\n",
    "def get_memory_usage(pid):\n",
    "    try:\n",
    "        process = psutil.Process(pid)\n",
    "        memory_info = process.memory_info()\n",
    "        # RSS to MB\n",
    "        return memory_info.rss / (1024 * 1024)\n",
    "    except psutil.NoSuchProcess as e:\n",
    "        print(f\"Process with PID {pid} not found.\")\n",
    "        return None\n",
    "\n",
    "def get_all_processes_memory_usage():\n",
    "    processes = []\n",
    "\n",
    "    for proc in psutil.process_iter(['pid', 'name']):\n",
    "        pid = proc.info['pid']\n",
    "        name = proc.info['name']\n",
    "        memory_usage = get_memory_usage(pid)\n",
    "\n",
    "        if memory_usage is not None and get_process_cwd(pid) is not None:\n",
    "            processes.append({'PID': pid, 'get_process_cwd': get_process_cwd(pid), 'MemoryUsage': memory_usage})\n",
    "\n",
    "    return processes\n",
    "\n",
    "# Memory usage dataframe\n",
    "processes_info = get_all_processes_memory_usage()\n",
    "memory_df = pd.DataFrame(processes_info)\n",
    "memory_df = memory_df.sort_values(by='MemoryUsage',ascending=False)\n",
    "\n",
    "memory_df['MemoryUsage'] = memory_df['MemoryUsage'].apply(lambda x: f'{x:.2f} MB')\n"
   ]
  },
  {
   "cell_type": "code",
   "execution_count": null,
   "id": "02ee6486-1679-45ba-9ac7-cf931bdff2f5",
   "metadata": {},
   "outputs": [],
   "source": [
    "memory_df"
   ]
  },
  {
   "cell_type": "code",
   "execution_count": null,
   "id": "f75d78a1-2a6c-4550-9818-5fdc645a8c4d",
   "metadata": {},
   "outputs": [],
   "source": []
  }
 ],
 "metadata": {
  "kernelspec": {
   "display_name": "kang_sf38",
   "language": "python",
   "name": "kang_sf38"
  },
  "language_info": {
   "codemirror_mode": {
    "name": "ipython",
    "version": 3
   },
   "file_extension": ".py",
   "mimetype": "text/x-python",
   "name": "python",
   "nbconvert_exporter": "python",
   "pygments_lexer": "ipython3",
   "version": "3.8.13"
  }
 },
 "nbformat": 4,
 "nbformat_minor": 5
}
